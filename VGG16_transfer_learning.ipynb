{
  "cells": [
    {
      "cell_type": "code",
      "execution_count": null,
      "metadata": {
        "colab": {
          "base_uri": "https://localhost:8080/"
        },
        "id": "6rJX7yxbkVsJ",
        "outputId": "b6d888fe-6020-42f8-bb43-b1b10af5b094"
      },
      "outputs": [
        {
          "output_type": "stream",
          "name": "stdout",
          "text": [
            "Mounted at /content/drive\n"
          ]
        }
      ],
      "source": [
        "from google.colab import drive\n",
        "drive.mount('/content/drive')"
      ]
    },
    {
      "cell_type": "code",
      "execution_count": null,
      "metadata": {
        "id": "ImcTnJlvkDHo"
      },
      "outputs": [],
      "source": [
        "from keras.layers import Input, Lambda, Dense, Flatten\n",
        "from keras.models import Model\n",
        "from keras.applications.vgg16 import VGG16\n",
        "from keras.applications.vgg16 import preprocess_input\n",
        "from keras.preprocessing import image\n",
        "from keras.preprocessing.image import ImageDataGenerator\n",
        "from keras.models import Sequential\n",
        "import numpy as np\n",
        "from glob import glob\n",
        "import matplotlib.pyplot as plt"
      ]
    },
    {
      "cell_type": "code",
      "execution_count": null,
      "metadata": {
        "id": "3iAAjRCclmAB",
        "colab": {
          "base_uri": "https://localhost:8080/"
        },
        "outputId": "fc1c063d-1ff0-464e-c8f5-75e13ea3715c"
      },
      "outputs": [
        {
          "output_type": "stream",
          "name": "stdout",
          "text": [
            "Downloading data from https://storage.googleapis.com/tensorflow/keras-applications/vgg16/vgg16_weights_tf_dim_ordering_tf_kernels_notop.h5\n",
            "58889256/58889256 [==============================] - 0s 0us/step\n"
          ]
        }
      ],
      "source": [
        "vgg = VGG16(input_shape=(224,224,3), weights='imagenet', include_top=False)\n",
        "\n",
        "for layer in vgg.layers:\n",
        "  layer.trainable = False"
      ]
    },
    {
      "cell_type": "code",
      "execution_count": null,
      "metadata": {
        "id": "BCzh2BMnm0k_"
      },
      "outputs": [],
      "source": [
        "x = Flatten()(vgg.output)\n",
        "x = Dense(1024, activation='relu')(x)\n",
        "x = Dense(128, activation = 'relu')(x)\n",
        "prediction = Dense(4, activation='softmax')(x)"
      ]
    },
    {
      "cell_type": "code",
      "execution_count": null,
      "metadata": {
        "id": "VfkNeygsnWsy"
      },
      "outputs": [],
      "source": [
        "# create a model object\n",
        "model = Model(inputs=vgg.input, outputs=prediction)"
      ]
    },
    {
      "cell_type": "code",
      "execution_count": null,
      "metadata": {
        "colab": {
          "base_uri": "https://localhost:8080/"
        },
        "id": "Ypjf_NFxng2K",
        "outputId": "f59722fb-a980-40da-e811-47877391a66d"
      },
      "outputs": [
        {
          "output_type": "stream",
          "name": "stdout",
          "text": [
            "Model: \"model\"\n",
            "_________________________________________________________________\n",
            " Layer (type)                Output Shape              Param #   \n",
            "=================================================================\n",
            " input_1 (InputLayer)        [(None, 224, 224, 3)]     0         \n",
            "                                                                 \n",
            " block1_conv1 (Conv2D)       (None, 224, 224, 64)      1792      \n",
            "                                                                 \n",
            " block1_conv2 (Conv2D)       (None, 224, 224, 64)      36928     \n",
            "                                                                 \n",
            " block1_pool (MaxPooling2D)  (None, 112, 112, 64)      0         \n",
            "                                                                 \n",
            " block2_conv1 (Conv2D)       (None, 112, 112, 128)     73856     \n",
            "                                                                 \n",
            " block2_conv2 (Conv2D)       (None, 112, 112, 128)     147584    \n",
            "                                                                 \n",
            " block2_pool (MaxPooling2D)  (None, 56, 56, 128)       0         \n",
            "                                                                 \n",
            " block3_conv1 (Conv2D)       (None, 56, 56, 256)       295168    \n",
            "                                                                 \n",
            " block3_conv2 (Conv2D)       (None, 56, 56, 256)       590080    \n",
            "                                                                 \n",
            " block3_conv3 (Conv2D)       (None, 56, 56, 256)       590080    \n",
            "                                                                 \n",
            " block3_pool (MaxPooling2D)  (None, 28, 28, 256)       0         \n",
            "                                                                 \n",
            " block4_conv1 (Conv2D)       (None, 28, 28, 512)       1180160   \n",
            "                                                                 \n",
            " block4_conv2 (Conv2D)       (None, 28, 28, 512)       2359808   \n",
            "                                                                 \n",
            " block4_conv3 (Conv2D)       (None, 28, 28, 512)       2359808   \n",
            "                                                                 \n",
            " block4_pool (MaxPooling2D)  (None, 14, 14, 512)       0         \n",
            "                                                                 \n",
            " block5_conv1 (Conv2D)       (None, 14, 14, 512)       2359808   \n",
            "                                                                 \n",
            " block5_conv2 (Conv2D)       (None, 14, 14, 512)       2359808   \n",
            "                                                                 \n",
            " block5_conv3 (Conv2D)       (None, 14, 14, 512)       2359808   \n",
            "                                                                 \n",
            " block5_pool (MaxPooling2D)  (None, 7, 7, 512)         0         \n",
            "                                                                 \n",
            " flatten (Flatten)           (None, 25088)             0         \n",
            "                                                                 \n",
            " dense (Dense)               (None, 1024)              25691136  \n",
            "                                                                 \n",
            " dense_1 (Dense)             (None, 128)               131200    \n",
            "                                                                 \n",
            " dense_2 (Dense)             (None, 4)                 516       \n",
            "                                                                 \n",
            "=================================================================\n",
            "Total params: 40,537,540\n",
            "Trainable params: 25,822,852\n",
            "Non-trainable params: 14,714,688\n",
            "_________________________________________________________________\n"
          ]
        }
      ],
      "source": [
        "model.summary()"
      ]
    },
    {
      "cell_type": "code",
      "execution_count": null,
      "metadata": {
        "id": "FUS2C2Ytn-dy"
      },
      "outputs": [],
      "source": [
        "model.compile(\n",
        "  loss='categorical_crossentropy',\n",
        "  optimizer='adam',\n",
        "  metrics=['accuracy']\n",
        ")"
      ]
    },
    {
      "cell_type": "code",
      "execution_count": null,
      "metadata": {
        "id": "RobFT_YHoKGp"
      },
      "outputs": [],
      "source": [
        "from keras.preprocessing.image import ImageDataGenerator\n",
        "\n",
        "train_datagen = ImageDataGenerator(\n",
        "                rescale=1/255.0,\n",
        "                shear_range=0.2,\n",
        "                vertical_flip=True,\n",
        "                rotation_range=20,\n",
        "                validation_split = 0.2,\n",
        " )\n",
        "\n",
        "test_datagen = ImageDataGenerator(rescale = 1./255)"
      ]
    },
    {
      "cell_type": "code",
      "execution_count": null,
      "metadata": {
        "colab": {
          "base_uri": "https://localhost:8080/"
        },
        "id": "85lAK0aMoIAC",
        "outputId": "3d5a50fc-7989-46ce-bdda-764323bc9b93"
      },
      "outputs": [
        {
          "output_type": "stream",
          "name": "stdout",
          "text": [
            "Found 1352 images belonging to 4 classes.\n"
          ]
        }
      ],
      "source": [
        "train_path = '/content/drive/MyDrive/Deep Thesis (4-2)/Rice Dataset/train'\n",
        "training_set = train_datagen.flow_from_directory(\n",
        "    directory = train_path,\n",
        "    target_size = (224, 224),\n",
        "    batch_size = 32,\n",
        "    class_mode = \"categorical\",\n",
        "    shuffle=True,\n",
        "    subset=\"training\",\n",
        ")"
      ]
    },
    {
      "cell_type": "code",
      "execution_count": null,
      "metadata": {
        "id": "E2MyavgvokAj",
        "colab": {
          "base_uri": "https://localhost:8080/"
        },
        "outputId": "6247dcdd-8f2a-451d-a9e7-0831512a2863"
      },
      "outputs": [
        {
          "output_type": "stream",
          "name": "stdout",
          "text": [
            "Found 336 images belonging to 4 classes.\n"
          ]
        }
      ],
      "source": [
        "validation_set = train_datagen.flow_from_directory(\n",
        "    directory = train_path,\n",
        "    target_size = (224, 224),\n",
        "    batch_size = 32,\n",
        "    class_mode = \"categorical\",\n",
        "    shuffle=True,\n",
        "    subset=\"validation\",\n",
        ")"
      ]
    },
    {
      "cell_type": "code",
      "execution_count": null,
      "metadata": {
        "colab": {
          "base_uri": "https://localhost:8080/"
        },
        "id": "NS8esl8XorR8",
        "outputId": "29d2f111-a994-4dfe-dceb-b11965dffaf0"
      },
      "outputs": [
        {
          "output_type": "stream",
          "name": "stdout",
          "text": [
            "Found 420 images belonging to 4 classes.\n"
          ]
        }
      ],
      "source": [
        "test_path = '/content/drive/MyDrive/Deep Thesis (4-2)/Rice Dataset/validation'\n",
        "test_set = test_datagen.flow_from_directory(\n",
        "    directory = test_path,\n",
        "    target_size = (224, 224),\n",
        "    batch_size = 32,\n",
        "    class_mode = \"categorical\",\n",
        "    shuffle=True,\n",
        ")"
      ]
    },
    {
      "cell_type": "code",
      "source": [
        "result  = model.fit(\n",
        "          training_set, \n",
        "          batch_size = 32,\n",
        "          #validation_split = 0.2,\n",
        "          validation_data = validation_set,\n",
        "          epochs = 20)\n"
      ],
      "metadata": {
        "colab": {
          "base_uri": "https://localhost:8080/"
        },
        "id": "vZbHDUyLTwcP",
        "outputId": "8fd8789d-4e1d-4aa4-f56c-c9f1d41eaf2c"
      },
      "execution_count": null,
      "outputs": [
        {
          "output_type": "stream",
          "name": "stdout",
          "text": [
            "Epoch 1/20\n",
            "43/43 [==============================] - 946s 22s/step - loss: 1.9918 - accuracy: 0.4948 - val_loss: 0.7250 - val_accuracy: 0.6667\n",
            "Epoch 2/20\n",
            "43/43 [==============================] - 927s 22s/step - loss: 0.7762 - accuracy: 0.6428 - val_loss: 0.5870 - val_accuracy: 0.7619\n",
            "Epoch 3/20\n",
            "43/43 [==============================] - 943s 22s/step - loss: 0.6626 - accuracy: 0.7189 - val_loss: 0.6094 - val_accuracy: 0.7649\n",
            "Epoch 4/20\n",
            "43/43 [==============================] - 941s 22s/step - loss: 0.6079 - accuracy: 0.7567 - val_loss: 0.6325 - val_accuracy: 0.7321\n",
            "Epoch 5/20\n",
            "43/43 [==============================] - 923s 22s/step - loss: 0.4732 - accuracy: 0.8077 - val_loss: 0.5616 - val_accuracy: 0.7768\n",
            "Epoch 6/20\n",
            "43/43 [==============================] - 922s 22s/step - loss: 0.5419 - accuracy: 0.7655 - val_loss: 0.6427 - val_accuracy: 0.7470\n",
            "Epoch 7/20\n",
            "43/43 [==============================] - 921s 21s/step - loss: 0.4546 - accuracy: 0.8070 - val_loss: 0.5386 - val_accuracy: 0.7827\n",
            "Epoch 8/20\n",
            "43/43 [==============================] - 919s 21s/step - loss: 0.3531 - accuracy: 0.8595 - val_loss: 0.5792 - val_accuracy: 0.7500\n",
            "Epoch 9/20\n",
            "43/43 [==============================] - 919s 21s/step - loss: 0.3957 - accuracy: 0.8291 - val_loss: 0.5323 - val_accuracy: 0.7679\n",
            "Epoch 10/20\n",
            "43/43 [==============================] - 944s 22s/step - loss: 0.3678 - accuracy: 0.8602 - val_loss: 0.5104 - val_accuracy: 0.7738\n",
            "Epoch 11/20\n",
            "43/43 [==============================] - 919s 21s/step - loss: 0.3549 - accuracy: 0.8528 - val_loss: 0.6466 - val_accuracy: 0.7202\n",
            "Epoch 12/20\n",
            "43/43 [==============================] - 924s 22s/step - loss: 0.4424 - accuracy: 0.8173 - val_loss: 0.4812 - val_accuracy: 0.8036\n",
            "Epoch 13/20\n",
            "43/43 [==============================] - 920s 21s/step - loss: 0.3260 - accuracy: 0.8765 - val_loss: 0.4845 - val_accuracy: 0.8065\n",
            "Epoch 14/20\n",
            "43/43 [==============================] - 917s 22s/step - loss: 0.4128 - accuracy: 0.8314 - val_loss: 0.5923 - val_accuracy: 0.7589\n",
            "Epoch 15/20\n",
            "43/43 [==============================] - 935s 22s/step - loss: 0.3099 - accuracy: 0.8839 - val_loss: 0.5133 - val_accuracy: 0.7946\n",
            "Epoch 16/20\n",
            "43/43 [==============================] - 936s 22s/step - loss: 0.3327 - accuracy: 0.8676 - val_loss: 0.7347 - val_accuracy: 0.7024\n",
            "Epoch 17/20\n",
            "43/43 [==============================] - 936s 22s/step - loss: 0.3335 - accuracy: 0.8587 - val_loss: 0.7887 - val_accuracy: 0.7143\n",
            "Epoch 18/20\n",
            "43/43 [==============================] - 912s 21s/step - loss: 0.2720 - accuracy: 0.8928 - val_loss: 0.5268 - val_accuracy: 0.8036\n",
            "Epoch 19/20\n",
            "43/43 [==============================] - 936s 22s/step - loss: 0.2772 - accuracy: 0.8846 - val_loss: 0.5012 - val_accuracy: 0.8065\n",
            "Epoch 20/20\n",
            "43/43 [==============================] - 939s 22s/step - loss: 0.2632 - accuracy: 0.9001 - val_loss: 0.6313 - val_accuracy: 0.7976\n"
          ]
        }
      ]
    },
    {
      "cell_type": "markdown",
      "source": [],
      "metadata": {
        "id": "o8jAlZodux0n"
      }
    },
    {
      "cell_type": "code",
      "execution_count": null,
      "metadata": {
        "colab": {
          "base_uri": "https://localhost:8080/"
        },
        "id": "yL0tzrrGLyqF",
        "outputId": "c47858de-eaf5-4736-bf6d-3d6d09a46cac"
      },
      "outputs": [
        {
          "output_type": "stream",
          "name": "stdout",
          "text": [
            "14/14 [==============================] - 232s 16s/step - loss: 0.4980 - accuracy: 0.8238\n",
            "[0.49796393513679504, 0.8238095045089722]\n"
          ]
        }
      ],
      "source": [
        "acc = model.evaluate(test_set)\n",
        "print(acc)"
      ]
    },
    {
      "cell_type": "code",
      "execution_count": null,
      "metadata": {
        "colab": {
          "base_uri": "https://localhost:8080/",
          "height": 282
        },
        "id": "W_iXR7A8MG_V",
        "outputId": "f75e1f7e-e457-4499-824a-7d5e4cf4e778"
      },
      "outputs": [
        {
          "output_type": "display_data",
          "data": {
            "text/plain": [
              "<Figure size 432x288 with 1 Axes>"
            ],
            "image/png": "[encoded data removed]"
          },
          "metadata": {
            "needs_background": "light"
          }
        },
        {
          "output_type": "display_data",
          "data": {
            "text/plain": [
              "<Figure size 432x288 with 0 Axes>"
            ]
          },
          "metadata": {}
        }
      ],
      "source": [
        "plt.plot(result.history['accuracy'], label='train acc')\n",
        "plt.plot(result.history['val_accuracy'], label='val acc')\n",
        "plt.legend()\n",
        "plt.show()\n",
        "plt.savefig('AccVal_acc')"
      ]
    },
    {
      "cell_type": "code",
      "execution_count": null,
      "metadata": {
        "id": "uVEoIjpSMmK-",
        "colab": {
          "base_uri": "https://localhost:8080/",
          "height": 282
        },
        "outputId": "b5c2d336-5225-4cd7-ea84-03564ecf4eeb"
      },
      "outputs": [
        {
          "output_type": "display_data",
          "data": {
            "text/plain": [
              "<Figure size 432x288 with 1 Axes>"
            ],
            "image/png": "[encoded data removed]"
          },
          "metadata": {
            "needs_background": "light"
          }
        },
        {
          "output_type": "display_data",
          "data": {
            "text/plain": [
              "<Figure size 432x288 with 0 Axes>"
            ]
          },
          "metadata": {}
        }
      ],
      "source": [
        "plt.plot(result.history['loss'], label='train loss')\n",
        "plt.plot(result.history['val_loss'], label='val loss')\n",
        "plt.legend()\n",
        "plt.show()\n",
        "plt.savefig('LossVal_loss')"
      ]
    }
  ],
  "metadata": {
    "colab": {
      "collapsed_sections": [],
      "provenance": []
    },
    "kernelspec": {
      "display_name": "Python 3",
      "name": "python3"
    },
    "language_info": {
      "name": "python"
    }
  },
  "nbformat": 4,
  "nbformat_minor": 0
}