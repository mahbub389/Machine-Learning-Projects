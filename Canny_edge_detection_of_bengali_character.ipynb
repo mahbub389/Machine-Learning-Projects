{
  "nbformat": 4,
  "nbformat_minor": 0,
  "metadata": {
    "colab": {
      "provenance": []
    },
    "kernelspec": {
      "name": "python3",
      "display_name": "Python 3"
    },
    "language_info": {
      "name": "python"
    }
  },
  "cells": [
    {
      "cell_type": "code",
      "execution_count": null,
      "metadata": {
        "colab": {
          "base_uri": "https://localhost:8080/"
        },
        "id": "gKAU3HsNTIxS",
        "outputId": "62034b5c-a5de-4699-9825-9b41bb6326c2"
      },
      "outputs": [
        {
          "output_type": "stream",
          "name": "stdout",
          "text": [
            "Mounted at /content/drive\n"
          ]
        }
      ],
      "source": [
        "from google.colab import drive\n",
        "drive.mount(\"/content/drive\")"
      ]
    },
    {
      "cell_type": "code",
      "source": [
        "import os\n",
        "import glob\n",
        "import cv2\n",
        "import seaborn as sns\n",
        "import numpy as np\n",
        "import matplotlib.pyplot as plt"
      ],
      "metadata": {
        "id": "TtHbKNZfTWpz"
      },
      "execution_count": null,
      "outputs": []
    },
    {
      "cell_type": "code",
      "source": [
        "img = cv2.imread('/content/drive/MyDrive/mohona/02_0002_1_21_1016_0658_1.png')\n",
        "img = cv2.resize(img,(64,64))\n",
        "img = cv2.cvtColor(img,  cv2.COLOR_BGR2GRAY)\n",
        "img = cv2.Canny(img,300,700)\n",
        "plt.imshow(img , cmap = 'gray')"
      ],
      "metadata": {
        "id": "WLfwTbtkTXjE",
        "colab": {
          "base_uri": "https://localhost:8080/",
          "height": 286
        },
        "outputId": "8aff8106-8ae5-456f-e3ab-9baf19f01f87"
      },
      "execution_count": null,
      "outputs": [
        {
          "output_type": "execute_result",
          "data": {
            "text/plain": [
              "<matplotlib.image.AxesImage at 0x7f0b67216310>"
            ]
          },
          "metadata": {},
          "execution_count": 22
        },
        {
          "output_type": "display_data",
          "data": {
            "text/plain": [
              "<Figure size 432x288 with 1 Axes>"
            ],
            "image/png": "[encoded data removed]"
          },
          "metadata": {
            "needs_background": "light"
          }
        }
      ]
    },
    {
      "cell_type": "code",
      "source": [
        "img = cv2.imread('/content/drive/MyDrive/mohona/0_B.BARI_13_1_368.jpg')\n",
        "img = cv2.resize(img,(64,64))\n",
        "img = 255-img\n",
        "img = cv2.cvtColor(img,  cv2.COLOR_BGR2GRAY)\n",
        "img = cv2.Canny(img,300,700)\n",
        "plt.imshow(img , cmap = 'gray')\n",
        "import pandas as pd\n",
        "df = pd.DataFrame(img)\n",
        "df.head()"
      ],
      "metadata": {
        "colab": {
          "base_uri": "https://localhost:8080/",
          "height": 761
        },
        "id": "7xaYReJ-UDkr",
        "outputId": "899b4655-d609-4cf3-b9a0-9934e47dd25f"
      },
      "execution_count": null,
      "outputs": [
        {
          "output_type": "execute_result",
          "data": {
            "text/plain": [
              "<bound method NDFrame.head of     0   1   2   3   4   5   6   7   8   9   ...   54   55   56   57   58   59  \\\n",
              "0    0   0   0   0   0   0   0   0   0   0  ...    0    0    0    0    0    0   \n",
              "1    0   0   0   0   0   0   0   0   0   0  ...    0    0    0    0    0    0   \n",
              "2    0   0   0   0   0   0   0   0   0   0  ...    0    0    0    0    0    0   \n",
              "3    0   0   0   0   0   0   0   0   0   0  ...    0    0    0    0    0  255   \n",
              "4    0   0   0   0   0   0   0   0   0   0  ...    0    0  255  255  255  255   \n",
              "..  ..  ..  ..  ..  ..  ..  ..  ..  ..  ..  ...  ...  ...  ...  ...  ...  ...   \n",
              "59   0   0   0   0   0   0   0   0   0   0  ...    0    0    0  255    0    0   \n",
              "60   0   0   0   0   0   0   0   0   0   0  ...    0    0    0  255    0    0   \n",
              "61   0   0   0   0   0   0   0   0   0   0  ...    0    0    0  255    0    0   \n",
              "62   0   0   0   0   0   0   0   0   0   0  ...  255  255    0  255    0    0   \n",
              "63   0   0   0   0   0   0   0   0   0   0  ...    0    0  255  255    0    0   \n",
              "\n",
              "     60   61  62  63  \n",
              "0     0    0   0   0  \n",
              "1     0    0   0   0  \n",
              "2     0    0   0   0  \n",
              "3   255  255   0   0  \n",
              "4     0  255   0   0  \n",
              "..  ...  ...  ..  ..  \n",
              "59    0    0   0   0  \n",
              "60    0    0   0   0  \n",
              "61    0    0   0   0  \n",
              "62    0    0   0   0  \n",
              "63    0    0   0   0  \n",
              "\n",
              "[64 rows x 64 columns]>"
            ]
          },
          "metadata": {},
          "execution_count": 31
        },
        {
          "output_type": "display_data",
          "data": {
            "text/plain": [
              "<Figure size 432x288 with 1 Axes>"
            ],
            "image/png": "[encoded data removed]"
          },
          "metadata": {
            "needs_background": "light"
          }
        }
      ]
    }
  ]
}